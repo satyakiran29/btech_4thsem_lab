{
 "cells": [
  {
   "cell_type": "code",
   "execution_count": 1,
   "id": "9393f8d9",
   "metadata": {},
   "outputs": [
    {
     "name": "stdout",
     "output_type": "stream",
     "text": [
      "p.satya kiran \n",
      "24345A0524 CSE-C\n",
      "Z Statistic: 3.536\n",
      "Critical Value: 2.3263\n",
      "the Z Statistic exceeds the Critical Value, the null hypothesis (H0) is rejected\n"
     ]
    }
   ],
   "source": [
    "#Null Hypothesis H0: mu=1800 \n",
    "#Alternative Hypothesis H1: mu>1800 (right tailed test) \n",
    "#alpha=0.01 \n",
    "#test statistic, Z=(x_bar - mu)/(sd/sqrt(n))\n",
    "print(\"p.satya kiran \")\n",
    "print(\"24345A0524 CSE-C\")\n",
    "from numpy import sqrt, abs, round\n",
    "from scipy.stats import norm\n",
    "from scipy import stats  # Importing stats for scipy.stats.norm.ppf\n",
    "\n",
    "x_bar = 1850\n",
    "mu = 1800\n",
    "sd = 100\n",
    "n = 50\n",
    "los = 0.01\n",
    "category = \"right\"\n",
    "\n",
    "def oneSampZ(x_bar, mu, sd, n, category):\n",
    "    pooledSE = sd / sqrt(n)\n",
    "    z = (x_bar - mu) / pooledSE\n",
    "    if category == \"two\":\n",
    "        tab_value = stats.norm.ppf(1 - los / 2)  # For two-tailed test\n",
    "    elif category == \"left\":\n",
    "        tab_value = stats.norm.ppf(los)  # For left-tailed test\n",
    "    else:\n",
    "        tab_value = stats.norm.ppf(1 - los)  # For right-tailed test\n",
    "    return round(z, 3), round(tab_value, 4)\n",
    "\n",
    "# Call the function and display results\n",
    "z_stat, critical_value = oneSampZ(x_bar, mu, sd, n, category)\n",
    "print(f\"Z Statistic: {z_stat}\")\n",
    "print(f\"Critical Value: {critical_value}\")\n",
    "if z_stat>critical_value:\n",
    "    print(\"the Z Statistic exceeds the Critical Value, the null hypothesis (H0) is rejected\")\n",
    "else:\n",
    "    print(\"the null hypothesis (H0) is accepted\")"
   ]
  },
  {
   "cell_type": "code",
   "execution_count": 4,
   "id": "49f77532",
   "metadata": {},
   "outputs": [
    {
     "name": "stdout",
     "output_type": "stream",
     "text": [
      "p.satya kiran \n",
      "24345A0524 CSE-C\n",
      "z_statistic:: -5.751\n",
      "critical value:: 1.96\n",
      "Reject NUll Hypothesis\n"
     ]
    }
   ],
   "source": [
    "#Null hypothesis: H 0: μ 1 = μ 2 \n",
    "#alternative hypothesis: H 1 : μ 1 ≠ μ 2 \n",
    "#los=0.05\n",
    "#Test statistic, Z=(X1 - X2-mudiff)/(sqrt(sd12/n1 + sd22/n2))\n",
    "print(\"p.satya kiran \")\n",
    "print(\"24345A0524 CSE-C\")\n",
    "from numpy import sqrt, abs, round\n",
    "from scipy.stats import norm\n",
    "import scipy\n",
    "X1=28\n",
    "X2=33\n",
    "mudiff=0\n",
    "sd1=14.1\n",
    "sd2=9.5\n",
    "n1=75\n",
    "n2=50\n",
    "los=0.05\n",
    "category=\"two\"\n",
    "def twoSampZ(X1, X2, mudiff, sd1, sd2, n1, n2,category):\n",
    "    pooledSE = sqrt(sd1*2/n1 + sd2*2/n2)\n",
    "    z = ((X1 - X2) - mudiff)/pooledSE\n",
    "    if category==\"two\" :\n",
    "        tab_value = scipy.stats.norm.ppf(1-los/2) # for two tail test\n",
    "    elif category==\"left\" :\n",
    "        tab_value = scipy.stats.norm.ppf(los) #left tail\n",
    "    else :\n",
    "        tab_value= scipy.stats.norm.ppf(1-los) #right tail\n",
    "    return round(z, 3), round(tab_value, 4)\n",
    "    \n",
    "z, tab_value = twoSampZ(X1, X2, mudiff, sd1, sd2, n1, n2,category)\n",
    "print (\"z_statistic::\",z)\n",
    "print(\"critical value::\",tab_value)\n",
    "\n",
    "if(abs(z) <  tab_value):\n",
    "  print(\"Accept Null Hypothesis\")\n",
    "else:\n",
    "  print(\"Reject NUll Hypothesis\")"
   ]
  },
  {
   "cell_type": "code",
   "execution_count": 5,
   "id": "c3770305",
   "metadata": {},
   "outputs": [
    {
     "name": "stdout",
     "output_type": "stream",
     "text": [
      "p.satya kiran \n",
      "24345A0524 CSE-C\n",
      "t statistic calculated value::  -2.5\n",
      "critical value ::  1.7081\n",
      "Reject NUll Hypothesis\n"
     ]
    }
   ],
   "source": [
    "# t-test for single mean\n",
    "print(\"p.satya kiran \")\n",
    "print(\"24345A0524 CSE-C\")\n",
    "import scipy\n",
    "from numpy import sqrt, abs, round\n",
    "x_bar=990\n",
    "mu=1000\n",
    "s=20\n",
    "n=26\n",
    "los=0.05\n",
    "category=\"one\"\n",
    "df=n-1\n",
    "def oneSampT(x_bar, mu,s, n, category):\n",
    "    pooledSE = s/sqrt(n-1)\n",
    "    t_calval = (x_bar - mu)/pooledSE\n",
    "    if category==\"two\" :\n",
    "        tab_val = scipy.stats.t.ppf(1-(los/2),df) # for two tail test\n",
    "    else:\n",
    "        tab_val = scipy.stats.t.ppf(1-los,df)  #  one tail\n",
    "    return round(t_calval, 3), round(tab_val, 4)\n",
    "\n",
    "t_calval, tab_val = oneSampT(x_bar, mu, s, n,category)\n",
    "print (\"t statistic calculated value:: \",t_calval)\n",
    "print (\"critical value :: \", tab_val)\n",
    "\n",
    "if(abs(t_calval) <  tab_val):\n",
    "  print(\"Accept Null Hypothesis\")\n",
    "else:\n",
    "  print(\"Reject NUll Hypothesis\")"
   ]
  },
  {
   "cell_type": "code",
   "execution_count": 7,
   "id": "97a07430",
   "metadata": {},
   "outputs": [
    {
     "name": "stdout",
     "output_type": "stream",
     "text": [
      "p.satya kiran \n",
      "24345A0524 CSE-C\n",
      "t critical value:: 1.7709\n",
      "t calculated value:: 10.095\n",
      "Reject Null Hypothesis\n"
     ]
    }
   ],
   "source": [
    "# t-test for difference of mean\n",
    "print(\"p.satya kiran \")\n",
    "print(\"24345A0524 CSE-C\")\n",
    "\n",
    "X1 = 1234\n",
    "X2 = 1036\n",
    "mudiff = 0\n",
    "s1 = 36\n",
    "s2 = 40\n",
    "n1 = 8\n",
    "n2 = 7\n",
    "df = n1 + n2 - 2\n",
    "los = 0.05\n",
    "category = \"one\"\n",
    "\n",
    "def twoSampT(X1, X2, mudiff, s1, s2, n1, n2, category):\n",
    "  S = sqrt(((n1 - 1) * s1**2 + (n2 - 1) * s2**2) / (n1 + n2 - 2))\n",
    "  t_calval = ((X1 - X2) - mudiff) / (S * sqrt((1 / n1) + (1 / n2)))\n",
    "  if category == \"two\":\n",
    "    tab_val = scipy.stats.t.ppf(1 - (los / 2), df)  # two-tailed test\n",
    "  else:\n",
    "    tab_val = scipy.stats.t.ppf(1 - los, df)  # one-tailed test\n",
    "  return round(t_calval, 3), round(tab_val, 4)\n",
    "\n",
    "t_calval, tab_val = twoSampT(X1, X2, mudiff, s1, s2, n1, n2, category)\n",
    "print(\"t critical value::\", tab_val)\n",
    "print(\"t calculated value::\", t_calval)\n",
    "\n",
    "if abs(t_calval) < tab_val:\n",
    "  print(\"Accept Null Hypothesis\")\n",
    "else:\n",
    "  print(\"Reject Null Hypothesis\")"
   ]
  },
  {
   "cell_type": "code",
   "execution_count": null,
   "id": "db9b5c8d",
   "metadata": {},
   "outputs": [],
   "source": []
  }
 ],
 "metadata": {
  "kernelspec": {
   "display_name": "Python 3",
   "language": "python",
   "name": "python3"
  },
  "language_info": {
   "codemirror_mode": {
    "name": "ipython",
    "version": 3
   },
   "file_extension": ".py",
   "mimetype": "text/x-python",
   "name": "python",
   "nbconvert_exporter": "python",
   "pygments_lexer": "ipython3",
   "version": "3.13.2"
  }
 },
 "nbformat": 4,
 "nbformat_minor": 5
}
