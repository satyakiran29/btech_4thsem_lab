{
 "cells": [
  {
   "cell_type": "code",
   "execution_count": null,
   "id": "73290ebb",
   "metadata": {},
   "outputs": [
    {
     "ename": "SyntaxError",
     "evalue": "unterminated string literal (detected at line 22) (2851727649.py, line 22)",
     "output_type": "error",
     "traceback": [
      "  \u001b[36mCell\u001b[39m\u001b[36m \u001b[39m\u001b[32mIn[3]\u001b[39m\u001b[32m, line 22\u001b[39m\n\u001b[31m    \u001b[39m\u001b[31max = df['rate'].plot(kind='hist', bins=5, edgecolor='black', title='rate␣\u001b[39m\n                                                                       ^\n\u001b[31mSyntaxError\u001b[39m\u001b[31m:\u001b[39m unterminated string literal (detected at line 22)\n"
     ]
    }
   ],
   "source": [
    "import pandas as pd\n",
    "import matplotlib.pyplot as plt\n",
    "# Creating the DataFrame\n",
    "data = {'anime': ['one-piece', 'ginatama', 'Naruto', 'Gintama'], 'rate': [4.1,0.3, 5.4, 5.6]}\n",
    "df = pd.DataFrame(data)\n",
    "# Printing details\n",
    "print(\"P.Satyakiran\\n24345A0524\\nSec-c\")\n",
    "print(df)\n",
    "# Line plot\n",
    "df.plot(x='anime', y='rate', kind='line', title='anime rate')\n",
    "plt.show()\n",
    "# Bar plot\n",
    "df.plot(x='anime', y='rate', kind='bar', title='anime rate')\n",
    "plt.show()\n",
    "# Horizontal Bar Plot\n",
    "df.plot(x='anime', y='rate', kind='barh', title='anime rate')\n",
    "plt.show()\n",
    "# Scatter Plot\n",
    "df.plot(x='anime', y='rate', kind='scatter', title='anime rate')\n",
    "plt.show()\n",
    "# Histogram\n",
    "ax = df['rate'].plot(kind='hist', bins=5, edgecolor='black', title='rate␣Distribution')\n",
    "plt.show()\n",
    "# Box Plot\n",
    "df['rate'].plot(kind='box', title='rate Box Plot')\n",
    "plt.show()"
   ]
  }
 ],
 "metadata": {
  "kernelspec": {
   "display_name": "Python 3",
   "language": "python",
   "name": "python3"
  },
  "language_info": {
   "codemirror_mode": {
    "name": "ipython",
    "version": 3
   },
   "file_extension": ".py",
   "mimetype": "text/x-python",
   "name": "python",
   "nbconvert_exporter": "python",
   "pygments_lexer": "ipython3",
   "version": "3.13.2"
  }
 },
 "nbformat": 4,
 "nbformat_minor": 5
}
