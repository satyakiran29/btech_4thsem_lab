{
 "cells": [
  {
   "cell_type": "markdown",
   "id": "eec56c08",
   "metadata": {},
   "source": [
    "The IQs of 8 students from one college showed a variance of 12.057 and the IQs of 10 \n",
    "students from the other college had a variance of 11.4. Discuss whether there is any \n",
    "significant difference in variability of intelligence at 5% levelof significance.\n",
    "\n",
    "n2=8"
   ]
  },
  {
   "cell_type": "code",
   "execution_count": null,
   "id": "e747dc2e",
   "metadata": {},
   "outputs": [
    {
     "name": "stdout",
     "output_type": "stream",
     "text": [
      "1.0576 3.2927\n",
      "Accept Null Hypothesis\n"
     ]
    }
   ],
   "source": [
    "#solution\n",
    "import numpy as np\n",
    "import scipy.stats\n",
    "from numpy import sqrt, abs, round\n",
    "n1=8\n",
    "n2=10\n",
    "s1_squre=12.057\n",
    "s2_squre=11.4\n",
    "df1=n1-1\n",
    "df2=n2-1\n",
    "los=0.05\n",
    "\n",
    "def f_test(s1_squre,s2_squre,df1,df2):\n",
    "    f=s1_squre/s2_squre\n",
    "    tabv=scipy.stats.f.ppf(1-los,dfn=df1,dfd=df2)\n",
    "    return round(f,4),round(tabv,4)\n",
    "t_calval,tabval=f_test(s1_squre,s2_squre,df1,df2)\n",
    "print(t_calval,tabval)\n",
    "\n",
    "if(t_calval<tabval):\n",
    "    print(\"Accept Null Hypothesis\")\n",
    "else:\n",
    "    print(\"reject null hypothesis\")    \n",
    "\n",
    "    \n",
    "\n"
   ]
  }
 ],
 "metadata": {
  "kernelspec": {
   "display_name": "Python 3",
   "language": "python",
   "name": "python3"
  },
  "language_info": {
   "codemirror_mode": {
    "name": "ipython",
    "version": 3
   },
   "file_extension": ".py",
   "mimetype": "text/x-python",
   "name": "python",
   "nbconvert_exporter": "python",
   "pygments_lexer": "ipython3",
   "version": "3.13.2"
  }
 },
 "nbformat": 4,
 "nbformat_minor": 5
}
