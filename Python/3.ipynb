{
 "cells": [
  {
   "cell_type": "code",
   "execution_count": 2,
   "id": "c5ca3a35",
   "metadata": {},
   "outputs": [
    {
     "name": "stdout",
     "output_type": "stream",
     "text": [
      "    name  age       city\n",
      "0  satya   45  hyderabad\n",
      "1  kiran   23  bangalore\n",
      "2     sk   34    chennai\n"
     ]
    }
   ],
   "source": [
    "import pandas as pd\n",
    "import numpy as np\n",
    "data = {'name': ['satya', 'kiran', 'sk'],\n",
    "    'age': [45, 23, 34],\n",
    "    'city': ['hyderabad', 'bangalore', 'chennai']}\n",
    "df = pd.DataFrame(data)\n",
    "print(df)"
   ]
  },
  {
   "cell_type": "code",
   "execution_count": 4,
   "id": "a11b22e2",
   "metadata": {},
   "outputs": [
    {
     "name": "stdout",
     "output_type": "stream",
     "text": [
      "   age   name       city\n",
      "0   45  satya  hyderabad\n",
      "1   23  kiran  bangalore\n",
      "2   34     sk    chennai\n",
      "satya\n",
      "satya\n"
     ]
    }
   ],
   "source": [
    "import pandas as pd\n",
    "data=[{'age': 45, 'name': 'satya', 'city': 'hyderabad'},\n",
    "        {'age': 23, 'name': 'kiran', 'city': 'bangalore'},\n",
    "        {'age': 34, 'name': 'sk', 'city': 'chennai'}]\n",
    "df = pd.DataFrame(data)\n",
    "print(df)\n",
    "print(df.loc[0,'name'])\n",
    "print(df.iloc[0,1])\n",
    "\n"
   ]
  },
  {
   "cell_type": "code",
   "execution_count": null,
   "id": "25d37654",
   "metadata": {},
   "outputs": [
    {
     "name": "stdout",
     "output_type": "stream",
     "text": [
      "   age   name       city\n",
      "0   45  satya  hyderabad\n",
      "1   23  kiran  bangalore\n",
      "2   34     sk    chennai\n",
      "   age    name       city\n",
      "0   50  satyam  hyderabad\n",
      "1   23   kiran  bangalore\n",
      "2   34      sk    chennai\n"
     ]
    }
   ],
   "source": [
    "import pandas as pd\n",
    "data=[{'age': 45, 'name': 'satya', 'city': 'hyderabad'},\n",
    "        {'age': 23, 'name': 'kiran', 'city': 'bangalore'},\n",
    "        {'age': 34, 'name': 'sk', 'city': 'chennai'}]\n",
    "df = pd.DataFrame(data)\n",
    "print(df)\n",
    "print('====='*20)\n",
    "df.loc[0,'name'] = 'satyam'\n",
    "df.loc[0,'age'] = 50\n",
    "print(df)"
   ]
  }
 ],
 "metadata": {
  "kernelspec": {
   "display_name": "Python 3",
   "language": "python",
   "name": "python3"
  },
  "language_info": {
   "codemirror_mode": {
    "name": "ipython",
    "version": 3
   },
   "file_extension": ".py",
   "mimetype": "text/x-python",
   "name": "python",
   "nbconvert_exporter": "python",
   "pygments_lexer": "ipython3",
   "version": "3.13.2"
  }
 },
 "nbformat": 4,
 "nbformat_minor": 5
}
