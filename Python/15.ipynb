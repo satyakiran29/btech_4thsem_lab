{
 "cells": [
  {
   "cell_type": "markdown",
   "id": "a456c32a",
   "metadata": {},
   "source": [
    "Explore problems in Correlation with sample data"
   ]
  },
  {
   "cell_type": "code",
   "execution_count": 5,
   "id": "d2f8c0ee",
   "metadata": {},
   "outputs": [
    {
     "name": "stdout",
     "output_type": "stream",
     "text": [
      "Rank value of x:: [6.0, 3.0, 2.0, 4.0, 5.0, 7.0, 1.0]\n",
      "Rank value of y:: [7.0, 3.0, 2.0, 4.0, 5.0, 6.0, 1.0]\n",
      "total for repeated elements:0.0\n",
      "Spearman Rank Correlation Coefficient: 0.964\n"
     ]
    }
   ],
   "source": [
    "#exp 15 spearmen's rank of correlation (with repetition)\n",
    "\n",
    "\n",
    "from numpy import sqrt, round\n",
    "x=list(map(int,input(\"Enter x:\").split()))\n",
    "y=list(map(int,input(\"Enter y:\").split()))\n",
    "\n",
    "def rank(x,y):\n",
    "    n=len(x)\n",
    "    sorted_x=sorted(x)\n",
    "    rank_x=[]\n",
    "    for val in x:\n",
    "        pos=[]\n",
    "        for i in range(n):\n",
    "            if sorted_x[i]==val:\n",
    "                pos.append(i)\n",
    "        rank_x.append((pos[0]+pos[-1])/2+1)\n",
    "    print(\"Rank value of x::\",rank_x)\n",
    "    sorted_y=sorted(y)\n",
    "    rank_y=[]\n",
    "    for val in y:\n",
    "        pos=[]\n",
    "        for i in range(n):\n",
    "            if sorted_y[i]==val:\n",
    "                pos.append(i)\n",
    "        rank_y.append((pos[0]+pos[-1])/2+1)\n",
    "    print(\"Rank value of y::\",rank_y)\n",
    "    b=set(y)\n",
    "    a=set(x)\n",
    "    sum=0\n",
    "    for i in a:\n",
    "        count=0\n",
    "        for j in x:\n",
    "            if i==j:\n",
    "                count+=1\n",
    "        if count>1:\n",
    "            print(f\"In x={i} repeated {count} times\")\n",
    "            sum+=count**3-count\n",
    "    for i in b:\n",
    "        count=0\n",
    "        for j in y:\n",
    "            if i==j:\n",
    "                count+=1\n",
    "        if count>1:\n",
    "            print(f\"In y={i} repeated {count} times\")\n",
    "            sum+=count**3-count\n",
    "    total=sum/12\n",
    "    print(f\"total for repeated elements:{total}\")\n",
    "    diff=0\n",
    "    for i in range(n):\n",
    "        d=rank_x[i]-rank_y[i]\n",
    "        diff+=d**2\n",
    "    result=(6*(diff+total))/(n*(n**2-1))\n",
    "    return round(1-result,3)\n",
    "result = rank(x, y)\n",
    "print(\"Spearman Rank Correlation Coefficient:\",result)"
   ]
  },
  {
   "cell_type": "code",
   "execution_count": null,
   "id": "e80846f2",
   "metadata": {},
   "outputs": [
    {
     "name": "stdout",
     "output_type": "stream",
     "text": [
      "rank_x:[6, 3, 2, 4, 5, 7, 1]\n",
      "rank_y:[7, 3, 2, 4, 5, 6, 1]\n",
      "spearmen rank of correlation :0.964\n"
     ]
    }
   ],
   "source": [
    "# exp 15using spearmen's rank of correlation (without repetition)\n",
    "from numpy import round\n",
    "x=list(map(int,input().split()))\n",
    "y=list(map(int,input().split()))\n",
    "n=len(x)\n",
    "def ranks(x,y):\n",
    "    sorted_x=sorted(x)\n",
    "    rank_x=[]\n",
    "    for item in x:\n",
    "        for i in range(len(sorted_x)):\n",
    "            if sorted_x[i]==item:\n",
    "                rank_x.append(i+1)\n",
    "    print(f\"rank_x:{rank_x}\")\n",
    "    sorted_y=sorted(y)\n",
    "    rank_y=[]\n",
    "    for item in y:\n",
    "        for i in range(n):\n",
    "            if sorted_y[i]==item:\n",
    "                rank_y.append(i+1)   \n",
    "    print(f\"rank_y:{rank_y}\")\n",
    "    d=0\n",
    "    diff=0\n",
    "    for i in range(n):\n",
    "        d+=(rank_x[i]-rank_y[i])**2\n",
    "    res=((6*d)/(n*(n**2-1)))\n",
    "    return round(1-res,3)\n",
    "res=ranks(x,y)\n",
    "print(f\"spearmen rank of correlation :{res}\")"
   ]
  },
  {
   "cell_type": "code",
   "execution_count": 12,
   "id": "3745136e",
   "metadata": {},
   "outputs": [
    {
     "name": "stdout",
     "output_type": "stream",
     "text": [
      "0.9485040136686708\n",
      "Pearson's coefficient of correlation: 0.95\n"
     ]
    }
   ],
   "source": [
    "# exp15 karl pearson's coefficient of correlation\n",
    "import math\n",
    "from numpy import sqrt, round\n",
    "\n",
    "x = list(map(int, input().split()))\n",
    "y = list(map(int, input().split()))\n",
    "n = len(x)\n",
    "\n",
    "def cov(x, y):\n",
    "    x_sum = 0\n",
    "    y_sum = 0\n",
    "    x_sq = 0\n",
    "    y_sq = 0\n",
    "    mul = 0\n",
    "    for i in range(n):\n",
    "        x_sum += x[i]\n",
    "        y_sum += y[i]\n",
    "        x_sq += (x[i]**2)\n",
    "        y_sq += (y[i]**2)\n",
    "        mul += x[i] * y[i]\n",
    "    c = (mul*n) - (x_sum*y_sum)\n",
    "    den = math.sqrt(((x_sq*n) - (x_sum**2)) * ((y_sq*n) - (y_sum**2)))  # corrected here\n",
    "    res = c / den\n",
    "    print(res)\n",
    "    return round(res, 2)\n",
    "\n",
    "res = cov(x, y)\n",
    "print(f\"Pearson's coefficient of correlation: {res}\")"
   ]
  }
 ],
 "metadata": {
  "kernelspec": {
   "display_name": "Python 3",
   "language": "python",
   "name": "python3"
  },
  "language_info": {
   "codemirror_mode": {
    "name": "ipython",
    "version": 3
   },
   "file_extension": ".py",
   "mimetype": "text/x-python",
   "name": "python",
   "nbconvert_exporter": "python",
   "pygments_lexer": "ipython3",
   "version": "3.13.2"
  }
 },
 "nbformat": 4,
 "nbformat_minor": 5
}
