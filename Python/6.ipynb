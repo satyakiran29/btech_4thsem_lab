{
 "cells": [
  {
   "cell_type": "code",
   "execution_count": 4,
   "id": "061782ca",
   "metadata": {},
   "outputs": [
    {
     "name": "stdout",
     "output_type": "stream",
     "text": [
      "urn a:\n",
      "3\n",
      "7\n",
      "urn b:\n",
      "4\n",
      "6\n",
      "probability of one white ball from urn a(aw):\n",
      "0.5384615384615385\n"
     ]
    }
   ],
   "source": [
    "print(\"urn a:\")\n",
    "ar=int(input(\"enter number of red balls in urn a:\"))\n",
    "print(ar)\n",
    "\n",
    "aw=int(input(\"enter number of white balls in urn a:\"))\n",
    "print(aw)\n",
    "print(\"urn b:\")\n",
    "br=int(input(\"enter number of red balls in urn b:\"))\n",
    "print(br)\n",
    "bw=int(input(\"enter number of white balls in urn b:\"))\n",
    "print(bw)\n",
    "\n",
    "def conditional_probability(ar,aw,br,bw):\n",
    "    pro_a,pro_b=1/2,1/2\n",
    "    print(\"probability of one white ball from urn a(aw):\")\n",
    "    pro_aw=(pro_a*(aw/(ar+aw)))/(pro_a*(aw/(ar+aw))+pro_b*(bw/(br+bw)))\n",
    "    print(pro_aw)\n",
    "conditional_probability(ar, aw, br, bw)  "
   ]
  },
  {
   "cell_type": "code",
   "execution_count": null,
   "id": "bed4942d",
   "metadata": {},
   "outputs": [
    {
     "name": "stdout",
     "output_type": "stream",
     "text": [
      "probability of defective part from x\n",
      "0.3870967741935484\n"
     ]
    }
   ],
   "source": [
    "#bayes theorem\n",
    "def probability(k):\n",
    "    t1 = int(input(\"enter t1:\"))\n",
    "    t2 = int(input(\"enter t2:\"))\n",
    "    t3 = int(input(\"enter t3:\"))\n",
    "    d1 = int(input(\"enter d1:\"))\n",
    "    d2 = int(input(\"enter d2:\"))\n",
    "    d3 = int(input(\"enter d3:\"))\n",
    "    p_x, p_y, p_z = t1 / 100, t2 / 100, t3 / 100\n",
    "    d_x, d_y, d_z = d1 / 100, d2 / 100, d3 / 100\n",
    "    total_prob = (p_x * d_x) + (p_y * d_y) + (p_z * d_z)\n",
    "    if k == 'x':\n",
    "        return (p_x * d_x) / total_prob\n",
    "    elif k == 'y':\n",
    "        return (p_y * d_y) / total_prob\n",
    "    elif k == 'z':\n",
    "        return (p_z * d_z) / total_prob\n",
    "    else:\n",
    "        return \"invalid input\"\n",
    "\n",
    "k = input(\"enter the event to find probability of (x, y, z):\")\n",
    "p = probability(k)\n",
    "print(\"probability of defective part from\", k)\n",
    "print(p)\n"
   ]
  },
  {
   "cell_type": "code",
   "execution_count": null,
   "id": "1dc9f96c",
   "metadata": {},
   "outputs": [],
   "source": []
  }
 ],
 "metadata": {
  "kernelspec": {
   "display_name": "Python 3",
   "language": "python",
   "name": "python3"
  },
  "language_info": {
   "codemirror_mode": {
    "name": "ipython",
    "version": 3
   },
   "file_extension": ".py",
   "mimetype": "text/x-python",
   "name": "python",
   "nbconvert_exporter": "python",
   "pygments_lexer": "ipython3",
   "version": "3.13.2"
  }
 },
 "nbformat": 4,
 "nbformat_minor": 5
}
