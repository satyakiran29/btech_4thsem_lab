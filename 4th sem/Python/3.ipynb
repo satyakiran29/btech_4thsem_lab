{
 "cells": [
  {
   "cell_type": "code",
   "execution_count": 2,
   "id": "c5ca3a35",
   "metadata": {},
   "outputs": [
    {
     "name": "stdout",
     "output_type": "stream",
     "text": [
      "    name  age       city\n",
      "0  satya   45  hyderabad\n",
      "1  kiran   23  bangalore\n",
      "2     sk   34    chennai\n"
     ]
    }
   ],
   "source": [
    "import pandas as pd\n",
    "import numpy as np\n",
    "data = {'name': ['satya', 'kiran', 'sk'],\n",
    "    'age': [45, 23, 34],\n",
    "    'city': ['hyderabad', 'bangalore', 'chennai']}\n",
    "df = pd.DataFrame(data)\n",
    "print(df)"
   ]
  },
  {
   "cell_type": "code",
   "execution_count": 4,
   "id": "a11b22e2",
   "metadata": {},
   "outputs": [
    {
     "name": "stdout",
     "output_type": "stream",
     "text": [
      "   age   name       city\n",
      "0   45  satya  hyderabad\n",
      "1   23  kiran  bangalore\n",
      "2   34     sk    chennai\n",
      "satya\n",
      "satya\n"
     ]
    }
   ],
   "source": [
    "import pandas as pd\n",
    "data=[{'age': 45, 'name': 'satya', 'city': 'hyderabad'},\n",
    "        {'age': 23, 'name': 'kiran', 'city': 'bangalore'},\n",
    "        {'age': 34, 'name': 'sk', 'city': 'chennai'}]\n",
    "df = pd.DataFrame(data)\n",
    "print(df)\n",
    "print(df.loc[0,'name'])\n",
    "print(df.iloc[0,1])\n",
    "\n"
   ]
  },
  {
   "cell_type": "code",
   "execution_count": 7,
   "id": "25d37654",
   "metadata": {},
   "outputs": [
    {
     "name": "stdout",
     "output_type": "stream",
     "text": [
      "   age   name       city\n",
      "0   45  satya  hyderabad\n",
      "1   23  kiran  bangalore\n",
      "2   34     sk    chennai\n",
      "====================================================================================================\n",
      "   age    name       city\n",
      "0   50  satyam  hyderabad\n",
      "1   23   kiran  bangalore\n",
      "2   34      sk    chennai\n"
     ]
    }
   ],
   "source": [
    "import pandas as pd\n",
    "data=[{'age': 45, 'name': 'satya', 'city': 'hyderabad'},\n",
    "        {'age': 23, 'name': 'kiran', 'city': 'bangalore'},\n",
    "        {'age': 34, 'name': 'sk', 'city': 'chennai'}]\n",
    "df = pd.DataFrame(data)\n",
    "print(df)\n",
    "print('====='*20)\n",
    "df.loc[0,'name'] = 'satyam'\n",
    "df.loc[0,'age'] = 50\n",
    "print(df)"
   ]
  },
  {
   "cell_type": "code",
   "execution_count": 8,
   "id": "d58cccc9",
   "metadata": {},
   "outputs": [
    {
     "name": "stdout",
     "output_type": "stream",
     "text": [
      "<class 'pandas.core.frame.DataFrame'>\n",
      "RangeIndex: 3 entries, 0 to 2\n",
      "Data columns (total 3 columns):\n",
      " #   Column  Non-Null Count  Dtype \n",
      "---  ------  --------------  ----- \n",
      " 0   age     3 non-null      int64 \n",
      " 1   name    3 non-null      object\n",
      " 2   city    3 non-null      object\n",
      "dtypes: int64(1), object(2)\n",
      "memory usage: 204.0+ bytes\n",
      "None\n",
      "        age\n",
      "count   3.0\n",
      "mean   34.0\n",
      "std    11.0\n",
      "min    23.0\n",
      "25%    28.5\n",
      "50%    34.0\n",
      "75%    39.5\n",
      "max    45.0\n",
      "   age   name       city\n",
      "0   45  satya  hyderabad\n",
      "1   23  kiran  bangalore\n"
     ]
    }
   ],
   "source": [
    "import pandas as pd\n",
    "data=[{'age': 45, 'name': 'satya', 'city': 'hyderabad'},\n",
    "        {'age': 23, 'name': 'kiran', 'city': 'bangalore'},\n",
    "        {'age': 34, 'name': 'sk', 'city': 'chennai'}]\n",
    "df = pd.DataFrame(data)\n",
    "print(df.info())\n",
    "print(df.describe())\n",
    "print(df.head(2))"
   ]
  }
 ],
 "metadata": {
  "kernelspec": {
   "display_name": "Python 3",
   "language": "python",
   "name": "python3"
  },
  "language_info": {
   "codemirror_mode": {
    "name": "ipython",
    "version": 3
   },
   "file_extension": ".py",
   "mimetype": "text/x-python",
   "name": "python",
   "nbconvert_exporter": "python",
   "pygments_lexer": "ipython3",
   "version": "3.13.2"
  }
 },
 "nbformat": 4,
 "nbformat_minor": 5
}
