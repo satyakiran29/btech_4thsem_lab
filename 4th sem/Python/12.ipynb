{
 "cells": [
  {
   "cell_type": "code",
   "execution_count": 6,
   "id": "3be8e66c",
   "metadata": {},
   "outputs": [
    {
     "name": "stdout",
     "output_type": "stream",
     "text": [
      "Statistic: 26.6\n",
      "Critical Value: 16.919\n",
      "Reject NUll Hypothesis\n"
     ]
    }
   ],
   "source": [
    "import scipy.stats\n",
    "from numpy import  round\n",
    "Observed_values=[12,8,20,2,14,10,15,6,9,4]\n",
    "Expected_values=[10, 10, 10, 10, 10, 10, 10, 10, 10, 10]\n",
    "dof=len(Observed_values)-1\n",
    "alpha = 0.05\n",
    "    \n",
    "def chi_square_calc(Observed_values,Expected_values,dof,alpha):\n",
    "  chi_square_cal=sum([(o-e)**2./e for o,e in zip(Observed_values,Expected_values)])#Chi-square formula\n",
    "  chi_square_tab=scipy.stats.chi2.ppf(1-alpha, df=dof)\n",
    "  return round(chi_square_cal,3),round(chi_square_tab,4)\n",
    "chi_square_cal,chi_square_tab=chi_square_calc(Observed_values,Expected_values,dof,alpha)\n",
    "\n",
    "\n",
    "print(f\"Statistic: {chi_square_cal}\")\n",
    "print(f\"Critical Value: {chi_square_tab}\")\n",
    "if(chi_square_cal < chi_square_tab):\n",
    "  print(\"Accept Null Hypothesis\")\n",
    "else:\n",
    "  print(\"Reject NUll Hypothesis\")"
   ]
  }
 ],
 "metadata": {
  "kernelspec": {
   "display_name": "Python 3",
   "language": "python",
   "name": "python3"
  },
  "language_info": {
   "codemirror_mode": {
    "name": "ipython",
    "version": 3
   },
   "file_extension": ".py",
   "mimetype": "text/x-python",
   "name": "python",
   "nbconvert_exporter": "python",
   "pygments_lexer": "ipython3",
   "version": "3.13.2"
  }
 },
 "nbformat": 4,
 "nbformat_minor": 5
}
